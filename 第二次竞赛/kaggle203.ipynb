{
 "cells": [
  {
   "cell_type": "code",
   "execution_count": 14,
   "metadata": {},
   "outputs": [],
   "source": [
    "from sklearn.neighbors import KNeighborsClassifier\n",
    "import pandas as pd\n",
    "import numpy as np\n",
    "from pandas import DataFrame\n",
    "# from sklearn.externals import joblib"
   ]
  },
  {
   "cell_type": "code",
   "execution_count": 15,
   "metadata": {},
   "outputs": [],
   "source": [
    "train_data = pd.read_csv('train.csv',names=range(14))\n",
    "for i in range(train_data.shape[1]):\n",
    "    if train_data[i].value_counts().keys()[0]=='?':\n",
    "        x = train_data[i].value_counts().keys()[1]\n",
    "    else:\n",
    "        x = train_data[i].value_counts().keys()[0]\n",
    "    train_data[i] = train_data[i].replace('?', x)\n",
    "# train_data"
   ]
  },
  {
   "cell_type": "code",
   "execution_count": 16,
   "metadata": {},
   "outputs": [],
   "source": [
    "test_data = pd.read_csv('test.csv',names=range(13))\n",
    "for i in range(test_data.shape[1]):\n",
    "    if test_data[i].value_counts().keys()[0]=='?':\n",
    "        x = test_data[i].value_counts().keys()[1]\n",
    "    else:\n",
    "        x = test_data[i].value_counts().keys()[0]\n",
    "    test_data[i] = test_data[i].replace('?', x)\n",
    "# test_data"
   ]
  },
  {
   "cell_type": "code",
   "execution_count": 39,
   "metadata": {},
   "outputs": [],
   "source": [
    "#取出文件中所需要的数据\n",
    "train = train_data[[0,1,2,3,4,5,7,8,9,10,11,12]]\n",
    "test = test_data[[0,1,2,3,4,5,7,8,9,10,11,12]]\n",
    "# #取出所有的性别\n",
    "# se= train[0]\n",
    "# #取出所有的婚姻状况\n",
    "# hunyin = train[1]\n",
    "# #取出所有的年龄\n",
    "# ege = train[2]\n",
    "# #取出所有的教育程度\n",
    "# edu = train[3]\n",
    "# #取出所有的职业\n",
    "# zhi = train[4]\n",
    "# #取出所有的工作年限\n",
    "# nianxian = train[5]\n",
    "# #取出所有预测数据中所有的性别\n",
    "# se_test = test[0]\n",
    "# #取出预测数据中所有的婚姻状况\n",
    "# hunyin_test = test[1]\n",
    "# #取出预测数据中所有的年龄\n",
    "# ege_test = test[2]\n",
    "# #取出预测数据中所有的教育程度\n",
    "# edu_test = test[3]\n",
    "# #取出所有预测数据中所有的职业\n",
    "# zhi_test = test[4]\n",
    "# #取出所有预测数据中所有的工作年限\n",
    "# nianxian_test = test_data[5]"
   ]
  },
  {
   "cell_type": "code",
   "execution_count": 40,
   "metadata": {},
   "outputs": [],
   "source": [
    "# #创建函数，使不同的职业去对应各自的索引\n",
    "# # 性别\n",
    "# def sexint(item):\n",
    "#     index = np.argwhere(se == item)[0,0]\n",
    "#     return index\n",
    "# # 婚姻\n",
    "# def hunyinint(item):\n",
    "#     index = np.argwhere(hunyin == item)[0,0]\n",
    "#     return index\n",
    "# # 年龄\n",
    "# def egeint(item):\n",
    "#     index = np.argwhere(ege == item)[0,0]\n",
    "#     return index\n",
    "# # 教育\n",
    "# def eduint(item):\n",
    "#     index = np.argwhere(edu == item)[0,0]\n",
    "#     return index\n",
    "# # 职业\n",
    "# def zhiyeint(item):\n",
    "#     index = np.argwhere(zhi == item)[0,0]\n",
    "#     return index\n",
    "# # 年限\n",
    "# def nianxianint(item):\n",
    "#     index = np.argwhere(nianxian == item)[0,0]\n",
    "#     return index\n",
    "\n",
    "# # 性别\n",
    "# def sexint_test(item):\n",
    "#     index = np.argwhere(se_test == item)[0,0]\n",
    "#     return index\n",
    "# # 婚姻\n",
    "# def hunyinint_test(item):\n",
    "#     index = np.argwhere(hunyin_test == item)[0,0]\n",
    "#     return index\n",
    "# # 年龄\n",
    "# def egeint_test(item):\n",
    "#     index = np.argwhere(ege_test == item)[0,0]\n",
    "#     return index\n",
    "# # 教育\n",
    "# def eduint_test(item):\n",
    "#     index = np.argwhere(edu_test == item)[0,0]\n",
    "#     return index\n",
    "# # 职业\n",
    "# def zhiyeint_test(item):\n",
    "#     index = np.argwhere(zhi_test == item)[0,0]\n",
    "#     return index\n",
    "# # 年限\n",
    "# def nianxianint_test(item):\n",
    "#     index = np.argwhere(nianxian_test == item)[0,0]\n",
    "#     return index"
   ]
  },
  {
   "cell_type": "code",
   "execution_count": 41,
   "metadata": {},
   "outputs": [
    {
     "name": "stderr",
     "output_type": "stream",
     "text": [
      "C:\\ProgramData\\Anoconda3\\lib\\site-packages\\ipykernel_launcher.py:7: DataConversionWarning: A column-vector y was passed when a 1d array was expected. Please change the shape of y to (n_samples, ), for example using ravel().\n",
      "  import sys\n"
     ]
    }
   ],
   "source": [
    "#取出训练数据\n",
    "X_train = train\n",
    "Y_train = train_data[[6]]\n",
    "#调用Knn函数\n",
    "Knn = KNeighborsClassifier(10)\n",
    "#训练数据\n",
    "Knn.fit(X_train,Y_train)\n",
    "\n",
    "\n",
    "#取出预测数据\n",
    "X_test = test\n",
    "Y_test = test_data[[6]]\n",
    "#对数据进行预测\n",
    "y_ = Knn.predict(X_test)\n",
    "num = np.random.randint(1,1800)\n",
    "#查看预测结果与实际结果的相似程度\n",
    "# Knn.score(X_test,Y_test)\n",
    "\n",
    "# #将预测的结果保存在文件中\n",
    "# joblib.dump(Knn,'year_receive.csv')\n",
    "# #加载文件\n",
    "# receive = joblib.load('year_receive.csv')\n",
    "\n",
    "# receive.score(X_test,Y_test)"
   ]
  },
  {
   "cell_type": "code",
   "execution_count": 42,
   "metadata": {},
   "outputs": [],
   "source": [
    "import csv\n",
    "with open(\"year_receive.csv\",\"w\",encoding='utf8',newline='') as csvfile:\n",
    "    writer=csv.writer(csvfile)\n",
    "    writer.writerow([\"id\",\"y\"])\n",
    "    for i in range(len(y_)):\n",
    "        writer.writerow([i+1, y_[i]])\n"
   ]
  },
  {
   "cell_type": "code",
   "execution_count": null,
   "metadata": {},
   "outputs": [],
   "source": []
  }
 ],
 "metadata": {
  "kernelspec": {
   "display_name": "Python 3",
   "language": "python",
   "name": "python3"
  },
  "language_info": {
   "codemirror_mode": {
    "name": "ipython",
    "version": 3
   },
   "file_extension": ".py",
   "mimetype": "text/x-python",
   "name": "python",
   "nbconvert_exporter": "python",
   "pygments_lexer": "ipython3",
   "version": "3.6.4"
  }
 },
 "nbformat": 4,
 "nbformat_minor": 2
}
