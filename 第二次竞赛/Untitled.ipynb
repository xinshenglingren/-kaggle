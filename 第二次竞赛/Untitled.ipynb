{
 "cells": [
  {
   "cell_type": "code",
   "execution_count": 2,
   "metadata": {},
   "outputs": [],
   "source": [
    "#导入机器学习linear_model库\n",
    "from sklearn import linear_model\n",
    "#导入交叉验证库\n",
    "# from sklearn import cross_validation\n",
    "from sklearn.neighbors import KNeighborsClassifier\n",
    "import pandas as pd\n",
    "import numpy as np\n",
    "from pandas import DataFrame"
   ]
  },
  {
   "cell_type": "code",
   "execution_count": 3,
   "metadata": {},
   "outputs": [],
   "source": [
    "train_data = pd.read_csv('train.csv',names=range(14))\n",
    "for i in range(train_data.shape[1]):\n",
    "    if train_data[i].value_counts().keys()[0]=='?':\n",
    "        x = train_data[i].value_counts().keys()[1]\n",
    "    else:\n",
    "        x = train_data[i].value_counts().keys()[0]\n",
    "    train_data[i] = train_data[i].replace('?', x)"
   ]
  },
  {
   "cell_type": "code",
   "execution_count": 4,
   "metadata": {},
   "outputs": [],
   "source": [
    "test_data = pd.read_csv('test.csv',names=range(13))\n",
    "for i in range(test_data.shape[1]):\n",
    "    if test_data[i].value_counts().keys()[0]=='?':\n",
    "        x = test_data[i].value_counts().keys()[1]\n",
    "    else:\n",
    "        x = test_data[i].value_counts().keys()[0]\n",
    "    test_data[i] = test_data[i].replace('?', x)"
   ]
  },
  {
   "cell_type": "code",
   "execution_count": 5,
   "metadata": {},
   "outputs": [],
   "source": [
    "#取出文件中所需要的数据\n",
    "train = train_data[[0,1,2,3,4,5,7,8,9,10,11,12]]\n",
    "test = test_data[[0,1,2,3,4,5,7,8,9,10,11,12]]"
   ]
  },
  {
   "cell_type": "code",
   "execution_count": 6,
   "metadata": {},
   "outputs": [
    {
     "name": "stderr",
     "output_type": "stream",
     "text": [
      "C:\\ProgramData\\Anoconda3\\lib\\site-packages\\ipykernel_launcher.py:7: DataConversionWarning: A column-vector y was passed when a 1d array was expected. Please change the shape of y to (n_samples, ), for example using ravel().\n",
      "  import sys\n"
     ]
    }
   ],
   "source": [
    "#取出训练数据\n",
    "X_train = train\n",
    "Y_train = train_data[[6]]\n",
    "#调用Knn函数\n",
    "Knn = KNeighborsClassifier(10)\n",
    "#训练数据\n",
    "Knn.fit(X_train,Y_train)\n",
    "\n",
    "\n",
    "#取出预测数据\n",
    "X_test = test\n",
    "Y_test = test_data[[6]]\n",
    "#对数据进行预测\n",
    "y_ = Knn.predict(X_test)\n",
    "num = np.random.randint(1,1800)\n",
    "import csv\n",
    "with open(\"year_receive01.csv\",\"w\",encoding='utf8',newline='') as csvfile:\n",
    "    writer=csv.writer(csvfile)\n",
    "    writer.writerow([\"id\",\"y\"])\n",
    "    for i in range(len(y_)):\n",
    "        writer.writerow([i+1, y_[i]])"
   ]
  },
  {
   "cell_type": "code",
   "execution_count": null,
   "metadata": {},
   "outputs": [],
   "source": []
  }
 ],
 "metadata": {
  "kernelspec": {
   "display_name": "Python 3",
   "language": "python",
   "name": "python3"
  },
  "language_info": {
   "codemirror_mode": {
    "name": "ipython",
    "version": 3
   },
   "file_extension": ".py",
   "mimetype": "text/x-python",
   "name": "python",
   "nbconvert_exporter": "python",
   "pygments_lexer": "ipython3",
   "version": "3.6.4"
  }
 },
 "nbformat": 4,
 "nbformat_minor": 2
}
